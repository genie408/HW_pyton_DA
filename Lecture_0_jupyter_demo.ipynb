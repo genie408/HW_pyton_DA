{
 "cells": [
  {
   "cell_type": "markdown",
   "metadata": {
    "id": "2oL3UQcUiF6l"
   },
   "source": [
    "# Вступ\n",
    "Мене **звати** Іван!   \n",
    "\n",
    "Я пишу код на *Python*!\n",
    "\n",
    "Ця програма робить щось корисне."
   ]
  },
  {
   "cell_type": "code",
   "execution_count": 1,
   "metadata": {
    "execution": {
     "iopub.execute_input": "2025-06-08T17:14:21.025051Z",
     "iopub.status.busy": "2025-06-08T17:14:21.024759Z",
     "iopub.status.idle": "2025-06-08T17:14:21.030771Z",
     "shell.execute_reply": "2025-06-08T17:14:21.030050Z",
     "shell.execute_reply.started": "2025-06-08T17:14:21.025029Z"
    },
    "id": "sprUE9FMiF6p"
   },
   "outputs": [
    {
     "name": "stdout",
     "output_type": "stream",
     "text": [
      "Hello world!\n"
     ]
    }
   ],
   "source": [
    "print('Hello world!')"
   ]
  },
  {
   "cell_type": "code",
   "execution_count": 2,
   "metadata": {
    "execution": {
     "iopub.execute_input": "2025-06-08T17:14:22.422769Z",
     "iopub.status.busy": "2025-06-08T17:14:22.422405Z",
     "iopub.status.idle": "2025-06-08T17:14:22.429496Z",
     "shell.execute_reply": "2025-06-08T17:14:22.428615Z",
     "shell.execute_reply.started": "2025-06-08T17:14:22.422744Z"
    },
    "id": "_neQgyJhiF6r"
   },
   "outputs": [
    {
     "data": {
      "text/plain": [
       "140"
      ]
     },
     "execution_count": 2,
     "metadata": {},
     "output_type": "execute_result"
    }
   ],
   "source": [
    "120+20"
   ]
  },
  {
   "cell_type": "markdown",
   "metadata": {
    "id": "OwXfKtgZiF6r"
   },
   "source": [
    "## Розділ 1\n",
    "просто текст\n",
    "\n",
    "### Підрозділ\n",
    "\n",
    "## Розділ 2"
   ]
  },
  {
   "cell_type": "code",
   "execution_count": 3,
   "metadata": {
    "colab": {
     "background_save": true
    },
    "execution": {
     "iopub.execute_input": "2025-06-08T17:14:26.390478Z",
     "iopub.status.busy": "2025-06-08T17:14:26.390152Z",
     "iopub.status.idle": "2025-06-08T17:15:56.991675Z",
     "shell.execute_reply": "2025-06-08T17:15:56.990552Z",
     "shell.execute_reply.started": "2025-06-08T17:14:26.390455Z"
    },
    "id": "vHtOqcLpiF6s"
   },
   "outputs": [
    {
     "name": "stdout",
     "output_type": "stream",
     "text": [
      "0\n",
      "1\n",
      "2\n"
     ]
    },
    {
     "ename": "KeyboardInterrupt",
     "evalue": "",
     "output_type": "error",
     "traceback": [
      "\u001b[31m---------------------------------------------------------------------------\u001b[39m",
      "\u001b[31mKeyboardInterrupt\u001b[39m                         Traceback (most recent call last)",
      "\u001b[36mCell\u001b[39m\u001b[36m \u001b[39m\u001b[32mIn[3]\u001b[39m\u001b[32m, line 5\u001b[39m\n\u001b[32m      3\u001b[39m \u001b[38;5;28;01mfor\u001b[39;00m i \u001b[38;5;129;01min\u001b[39;00m \u001b[38;5;28mrange\u001b[39m(\u001b[32m10\u001b[39m):\n\u001b[32m      4\u001b[39m     \u001b[38;5;28mprint\u001b[39m(i)\n\u001b[32m----> \u001b[39m\u001b[32m5\u001b[39m     time.sleep(\u001b[32m30\u001b[39m)\n",
      "\u001b[31mKeyboardInterrupt\u001b[39m: "
     ]
    }
   ],
   "source": [
    "import time\n",
    "\n",
    "for i in range(10):\n",
    "    print(i)\n",
    "    time.sleep(30)"
   ]
  },
  {
   "cell_type": "code",
   "execution_count": 4,
   "metadata": {
    "colab": {
     "background_save": true
    },
    "execution": {
     "iopub.execute_input": "2025-06-08T17:16:08.346682Z",
     "iopub.status.busy": "2025-06-08T17:16:08.346174Z",
     "iopub.status.idle": "2025-06-08T17:16:08.351075Z",
     "shell.execute_reply": "2025-06-08T17:16:08.350188Z",
     "shell.execute_reply.started": "2025-06-08T17:16:08.346644Z"
    },
    "id": "lwi68wJTiF6s"
   },
   "outputs": [],
   "source": [
    "my_list = [1, 2, 3, 4]"
   ]
  },
  {
   "cell_type": "code",
   "execution_count": 5,
   "metadata": {
    "colab": {
     "background_save": true
    },
    "execution": {
     "iopub.execute_input": "2025-06-08T17:16:10.802504Z",
     "iopub.status.busy": "2025-06-08T17:16:10.802209Z",
     "iopub.status.idle": "2025-06-08T17:16:10.807556Z",
     "shell.execute_reply": "2025-06-08T17:16:10.806790Z",
     "shell.execute_reply.started": "2025-06-08T17:16:10.802482Z"
    },
    "id": "J1v2i3hWiF6s"
   },
   "outputs": [
    {
     "data": {
      "text/plain": [
       "[1, 2, 3, 4]"
      ]
     },
     "execution_count": 5,
     "metadata": {},
     "output_type": "execute_result"
    }
   ],
   "source": [
    "my_list"
   ]
  },
  {
   "cell_type": "markdown",
   "metadata": {
    "id": "0S3ZoqbqiF6t"
   },
   "source": [
    "В мене є список\n",
    "* Один\n",
    "    - підсписок\n",
    "        - це\n",
    "  - інший підписок\n",
    "        - то\n",
    "        - і ще то\n",
    "* два\n",
    "  - підсписок"
   ]
  },
  {
   "cell_type": "code",
   "execution_count": 6,
   "metadata": {
    "colab": {
     "background_save": true
    },
    "execution": {
     "iopub.execute_input": "2025-06-08T17:16:15.891954Z",
     "iopub.status.busy": "2025-06-08T17:16:15.891583Z",
     "iopub.status.idle": "2025-06-08T17:16:15.897230Z",
     "shell.execute_reply": "2025-06-08T17:16:15.896341Z",
     "shell.execute_reply.started": "2025-06-08T17:16:15.891927Z"
    },
    "id": "o_TLwslPiF6t"
   },
   "outputs": [
    {
     "data": {
      "text/plain": [
       "[100, 81, 64, 49, 36, 25, 16, 9, 4, 1, 0, 1, 4, 9, 16, 25, 36, 49, 64, 81, 100]"
      ]
     },
     "execution_count": 6,
     "metadata": {},
     "output_type": "execute_result"
    }
   ],
   "source": [
    "[x**2 for x in range(-10, 11)]"
   ]
  },
  {
   "cell_type": "code",
   "execution_count": 7,
   "metadata": {
    "colab": {
     "background_save": true
    },
    "execution": {
     "iopub.execute_input": "2025-06-08T17:16:18.729166Z",
     "iopub.status.busy": "2025-06-08T17:16:18.728876Z",
     "iopub.status.idle": "2025-06-08T17:16:18.732712Z",
     "shell.execute_reply": "2025-06-08T17:16:18.731829Z",
     "shell.execute_reply.started": "2025-06-08T17:16:18.729146Z"
    },
    "id": "bhnCh7-fiF6u"
   },
   "outputs": [],
   "source": [
    "s = 'Hello world!'"
   ]
  },
  {
   "cell_type": "code",
   "execution_count": 8,
   "metadata": {
    "colab": {
     "background_save": true
    },
    "execution": {
     "iopub.execute_input": "2025-06-08T17:16:20.595199Z",
     "iopub.status.busy": "2025-06-08T17:16:20.594929Z",
     "iopub.status.idle": "2025-06-08T17:16:20.599076Z",
     "shell.execute_reply": "2025-06-08T17:16:20.598259Z",
     "shell.execute_reply.started": "2025-06-08T17:16:20.595179Z"
    },
    "id": "eDdgh4AaiF6u"
   },
   "outputs": [
    {
     "name": "stdout",
     "output_type": "stream",
     "text": [
      "Hello world!\n"
     ]
    }
   ],
   "source": [
    "print(s)"
   ]
  },
  {
   "cell_type": "code",
   "execution_count": 9,
   "metadata": {
    "colab": {
     "background_save": true
    },
    "execution": {
     "iopub.execute_input": "2025-06-08T17:16:23.281144Z",
     "iopub.status.busy": "2025-06-08T17:16:23.279152Z",
     "iopub.status.idle": "2025-06-08T17:16:23.292340Z",
     "shell.execute_reply": "2025-06-08T17:16:23.291576Z",
     "shell.execute_reply.started": "2025-06-08T17:16:23.281049Z"
    },
    "id": "UQRN7yCHiF6u"
   },
   "outputs": [
    {
     "name": "stdout",
     "output_type": "stream",
     "text": [
      "24\n"
     ]
    },
    {
     "data": {
      "text/plain": [
       "'Hello world!'"
      ]
     },
     "execution_count": 9,
     "metadata": {},
     "output_type": "execute_result"
    }
   ],
   "source": [
    "1+1\n",
    "print(2+22)\n",
    "3+3\n",
    "s"
   ]
  },
  {
   "cell_type": "code",
   "execution_count": 10,
   "metadata": {
    "colab": {
     "background_save": true
    },
    "execution": {
     "iopub.execute_input": "2025-06-08T17:16:30.846720Z",
     "iopub.status.busy": "2025-06-08T17:16:30.846425Z",
     "iopub.status.idle": "2025-06-08T17:16:30.850133Z",
     "shell.execute_reply": "2025-06-08T17:16:30.849315Z",
     "shell.execute_reply.started": "2025-06-08T17:16:30.846694Z"
    },
    "id": "omVOoOrsiF6u"
   },
   "outputs": [],
   "source": [
    "a = 'Hello everyone!'"
   ]
  },
  {
   "cell_type": "code",
   "execution_count": 11,
   "metadata": {
    "colab": {
     "background_save": true
    },
    "execution": {
     "iopub.execute_input": "2025-06-08T17:16:33.480404Z",
     "iopub.status.busy": "2025-06-08T17:16:33.479055Z",
     "iopub.status.idle": "2025-06-08T17:16:33.486251Z",
     "shell.execute_reply": "2025-06-08T17:16:33.485492Z",
     "shell.execute_reply.started": "2025-06-08T17:16:33.480315Z"
    },
    "id": "HmzhXdz6iF6v"
   },
   "outputs": [
    {
     "data": {
      "text/plain": [
       "'Hello everyone!'"
      ]
     },
     "execution_count": 11,
     "metadata": {},
     "output_type": "execute_result"
    }
   ],
   "source": [
    "a"
   ]
  },
  {
   "cell_type": "code",
   "execution_count": 18,
   "metadata": {
    "execution": {
     "iopub.execute_input": "2025-06-08T17:23:44.603591Z",
     "iopub.status.busy": "2025-06-08T17:23:44.603273Z",
     "iopub.status.idle": "2025-06-08T17:24:20.594693Z",
     "shell.execute_reply": "2025-06-08T17:24:20.593822Z",
     "shell.execute_reply.started": "2025-06-08T17:23:44.603570Z"
    }
   },
   "outputs": [
    {
     "name": "stdout",
     "output_type": "stream",
     "text": [
      "Collecting matplotlib\n",
      "  Downloading matplotlib-3.10.3-cp313-cp313-win_amd64.whl.metadata (11 kB)\n",
      "Collecting numpy\n",
      "  Downloading numpy-2.3.0-cp313-cp313-win_amd64.whl.metadata (60 kB)\n",
      "Collecting contourpy>=1.0.1 (from matplotlib)\n",
      "  Downloading contourpy-1.3.2-cp313-cp313-win_amd64.whl.metadata (5.5 kB)\n",
      "Collecting cycler>=0.10 (from matplotlib)\n",
      "  Downloading cycler-0.12.1-py3-none-any.whl.metadata (3.8 kB)\n",
      "Collecting fonttools>=4.22.0 (from matplotlib)\n",
      "  Downloading fonttools-4.58.2-cp313-cp313-win_amd64.whl.metadata (108 kB)\n",
      "Collecting kiwisolver>=1.3.1 (from matplotlib)\n",
      "  Downloading kiwisolver-1.4.8-cp313-cp313-win_amd64.whl.metadata (6.3 kB)\n",
      "Requirement already satisfied: packaging>=20.0 in c:\\users\\толичичек\\.conda\\envs\\hwenvpy\\lib\\site-packages (from matplotlib) (24.2)\n",
      "Collecting pillow>=8 (from matplotlib)\n",
      "  Downloading pillow-11.2.1-cp313-cp313-win_amd64.whl.metadata (9.1 kB)\n",
      "Collecting pyparsing>=2.3.1 (from matplotlib)\n",
      "  Downloading pyparsing-3.2.3-py3-none-any.whl.metadata (5.0 kB)\n",
      "Requirement already satisfied: python-dateutil>=2.7 in c:\\users\\толичичек\\.conda\\envs\\hwenvpy\\lib\\site-packages (from matplotlib) (2.9.0.post0)\n",
      "Requirement already satisfied: six>=1.5 in c:\\users\\толичичек\\.conda\\envs\\hwenvpy\\lib\\site-packages (from python-dateutil>=2.7->matplotlib) (1.17.0)\n",
      "Downloading matplotlib-3.10.3-cp313-cp313-win_amd64.whl (8.1 MB)\n",
      "   ---------------------------------------- 0.0/8.1 MB ? eta -:--:--\n",
      "   ------- -------------------------------- 1.6/8.1 MB 8.2 MB/s eta 0:00:01\n",
      "   --------------- ------------------------ 3.1/8.1 MB 7.6 MB/s eta 0:00:01\n",
      "   ----------------------- ---------------- 4.7/8.1 MB 7.5 MB/s eta 0:00:01\n",
      "   ----------------------------- ---------- 6.0/8.1 MB 7.4 MB/s eta 0:00:01\n",
      "   ------------------------------------- -- 7.6/8.1 MB 7.4 MB/s eta 0:00:01\n",
      "   ---------------------------------------- 8.1/8.1 MB 7.2 MB/s eta 0:00:00\n",
      "Downloading numpy-2.3.0-cp313-cp313-win_amd64.whl (12.7 MB)\n",
      "   ---------------------------------------- 0.0/12.7 MB ? eta -:--:--\n",
      "   ---- ----------------------------------- 1.6/12.7 MB 7.7 MB/s eta 0:00:02\n",
      "   --------- ------------------------------ 3.1/12.7 MB 7.8 MB/s eta 0:00:02\n",
      "   ---------- ----------------------------- 3.4/12.7 MB 5.7 MB/s eta 0:00:02\n",
      "   ----------- ---------------------------- 3.7/12.7 MB 4.5 MB/s eta 0:00:03\n",
      "   ------------ --------------------------- 3.9/12.7 MB 4.1 MB/s eta 0:00:03\n",
      "   -------------- ------------------------- 4.5/12.7 MB 3.6 MB/s eta 0:00:03\n",
      "   -------------- ------------------------- 4.7/12.7 MB 3.4 MB/s eta 0:00:03\n",
      "   ---------------- ----------------------- 5.2/12.7 MB 3.2 MB/s eta 0:00:03\n",
      "   ------------------ --------------------- 5.8/12.7 MB 3.1 MB/s eta 0:00:03\n",
      "   ------------------- -------------------- 6.3/12.7 MB 3.0 MB/s eta 0:00:03\n",
      "   --------------------- ------------------ 6.8/12.7 MB 2.9 MB/s eta 0:00:03\n",
      "   ----------------------- ---------------- 7.3/12.7 MB 2.9 MB/s eta 0:00:02\n",
      "   ------------------------ --------------- 7.9/12.7 MB 2.9 MB/s eta 0:00:02\n",
      "   -------------------------- ------------- 8.4/12.7 MB 2.9 MB/s eta 0:00:02\n",
      "   ---------------------------- ----------- 8.9/12.7 MB 2.9 MB/s eta 0:00:02\n",
      "   ----------------------------- ---------- 9.4/12.7 MB 2.9 MB/s eta 0:00:02\n",
      "   ------------------------------- -------- 10.0/12.7 MB 2.8 MB/s eta 0:00:01\n",
      "   -------------------------------- ------- 10.5/12.7 MB 2.8 MB/s eta 0:00:01\n",
      "   --------------------------------- ------ 10.7/12.7 MB 2.7 MB/s eta 0:00:01\n",
      "   ----------------------------------- ---- 11.3/12.7 MB 2.7 MB/s eta 0:00:01\n",
      "   ------------------------------------ --- 11.5/12.7 MB 2.6 MB/s eta 0:00:01\n",
      "   ------------------------------------- -- 12.1/12.7 MB 2.6 MB/s eta 0:00:01\n",
      "   ---------------------------------------  12.6/12.7 MB 2.6 MB/s eta 0:00:01\n",
      "   ---------------------------------------  12.6/12.7 MB 2.6 MB/s eta 0:00:01\n",
      "   ---------------------------------------- 12.7/12.7 MB 2.5 MB/s eta 0:00:00\n",
      "Downloading contourpy-1.3.2-cp313-cp313-win_amd64.whl (223 kB)\n",
      "Downloading cycler-0.12.1-py3-none-any.whl (8.3 kB)\n",
      "Downloading fonttools-4.58.2-cp313-cp313-win_amd64.whl (2.2 MB)\n",
      "   ---------------------------------------- 0.0/2.2 MB ? eta -:--:--\n",
      "   ---- ----------------------------------- 0.3/2.2 MB ? eta -:--:--\n",
      "   -------------- ------------------------- 0.8/2.2 MB 2.3 MB/s eta 0:00:01\n",
      "   ---------------------------- ----------- 1.6/2.2 MB 2.5 MB/s eta 0:00:01\n",
      "   ------------------------------------- -- 2.1/2.2 MB 2.5 MB/s eta 0:00:01\n",
      "   ---------------------------------------- 2.2/2.2 MB 2.5 MB/s eta 0:00:00\n",
      "Downloading kiwisolver-1.4.8-cp313-cp313-win_amd64.whl (71 kB)\n",
      "Downloading pillow-11.2.1-cp313-cp313-win_amd64.whl (2.7 MB)\n",
      "   ---------------------------------------- 0.0/2.7 MB ? eta -:--:--\n",
      "   ------- -------------------------------- 0.5/2.7 MB 2.8 MB/s eta 0:00:01\n",
      "   --------------- ------------------------ 1.0/2.7 MB 2.9 MB/s eta 0:00:01\n",
      "   ----------------------- ---------------- 1.6/2.7 MB 2.9 MB/s eta 0:00:01\n",
      "   ----------------------------------- ---- 2.4/2.7 MB 3.0 MB/s eta 0:00:01\n",
      "   ---------------------------------------- 2.7/2.7 MB 2.8 MB/s eta 0:00:00\n",
      "Downloading pyparsing-3.2.3-py3-none-any.whl (111 kB)\n",
      "Installing collected packages: pyparsing, pillow, numpy, kiwisolver, fonttools, cycler, contourpy, matplotlib\n",
      "\n",
      "   ---------------------------------------- 0/8 [pyparsing]\n",
      "   ----- ---------------------------------- 1/8 [pillow]\n",
      "   ----- ---------------------------------- 1/8 [pillow]\n",
      "   ----- ---------------------------------- 1/8 [pillow]\n",
      "   ----- ---------------------------------- 1/8 [pillow]\n",
      "   ----- ---------------------------------- 1/8 [pillow]\n",
      "   ----- ---------------------------------- 1/8 [pillow]\n",
      "   ----- ---------------------------------- 1/8 [pillow]\n",
      "   ----- ---------------------------------- 1/8 [pillow]\n",
      "   ----- ---------------------------------- 1/8 [pillow]\n",
      "   ----- ---------------------------------- 1/8 [pillow]\n",
      "   ---------- ----------------------------- 2/8 [numpy]\n",
      "   ---------- ----------------------------- 2/8 [numpy]\n",
      "   ---------- ----------------------------- 2/8 [numpy]\n",
      "   ---------- ----------------------------- 2/8 [numpy]\n",
      "   ---------- ----------------------------- 2/8 [numpy]\n",
      "   ---------- ----------------------------- 2/8 [numpy]\n",
      "   ---------- ----------------------------- 2/8 [numpy]\n",
      "   ---------- ----------------------------- 2/8 [numpy]\n",
      "   ---------- ----------------------------- 2/8 [numpy]\n",
      "   ---------- ----------------------------- 2/8 [numpy]\n",
      "   ---------- ----------------------------- 2/8 [numpy]\n",
      "   ---------- ----------------------------- 2/8 [numpy]\n",
      "   ---------- ----------------------------- 2/8 [numpy]\n",
      "   ---------- ----------------------------- 2/8 [numpy]\n",
      "   ---------- ----------------------------- 2/8 [numpy]\n",
      "   ---------- ----------------------------- 2/8 [numpy]\n",
      "   ---------- ----------------------------- 2/8 [numpy]\n",
      "   ---------- ----------------------------- 2/8 [numpy]\n",
      "   ---------- ----------------------------- 2/8 [numpy]\n",
      "   ---------- ----------------------------- 2/8 [numpy]\n",
      "   ---------- ----------------------------- 2/8 [numpy]\n",
      "   ---------- ----------------------------- 2/8 [numpy]\n",
      "   ---------- ----------------------------- 2/8 [numpy]\n",
      "   ---------- ----------------------------- 2/8 [numpy]\n",
      "   ---------- ----------------------------- 2/8 [numpy]\n",
      "   ---------- ----------------------------- 2/8 [numpy]\n",
      "   ---------- ----------------------------- 2/8 [numpy]\n",
      "   ---------- ----------------------------- 2/8 [numpy]\n",
      "   ---------- ----------------------------- 2/8 [numpy]\n",
      "   ---------- ----------------------------- 2/8 [numpy]\n",
      "   ---------- ----------------------------- 2/8 [numpy]\n",
      "   ---------- ----------------------------- 2/8 [numpy]\n",
      "   ---------- ----------------------------- 2/8 [numpy]\n",
      "   ---------- ----------------------------- 2/8 [numpy]\n",
      "   ---------- ----------------------------- 2/8 [numpy]\n",
      "   ---------- ----------------------------- 2/8 [numpy]\n",
      "   ---------- ----------------------------- 2/8 [numpy]\n",
      "   ---------- ----------------------------- 2/8 [numpy]\n",
      "   ---------- ----------------------------- 2/8 [numpy]\n",
      "   ---------- ----------------------------- 2/8 [numpy]\n",
      "   ---------- ----------------------------- 2/8 [numpy]\n",
      "   ---------- ----------------------------- 2/8 [numpy]\n",
      "   ---------- ----------------------------- 2/8 [numpy]\n",
      "   ---------- ----------------------------- 2/8 [numpy]\n",
      "   ---------- ----------------------------- 2/8 [numpy]\n",
      "   ---------- ----------------------------- 2/8 [numpy]\n",
      "   ---------- ----------------------------- 2/8 [numpy]\n",
      "   ---------- ----------------------------- 2/8 [numpy]\n",
      "   -------------------- ------------------- 4/8 [fonttools]\n",
      "   -------------------- ------------------- 4/8 [fonttools]\n",
      "   -------------------- ------------------- 4/8 [fonttools]\n",
      "   -------------------- ------------------- 4/8 [fonttools]\n",
      "   -------------------- ------------------- 4/8 [fonttools]\n",
      "   -------------------- ------------------- 4/8 [fonttools]\n",
      "   -------------------- ------------------- 4/8 [fonttools]\n",
      "   -------------------- ------------------- 4/8 [fonttools]\n",
      "   -------------------- ------------------- 4/8 [fonttools]\n",
      "   -------------------- ------------------- 4/8 [fonttools]\n",
      "   -------------------- ------------------- 4/8 [fonttools]\n",
      "   -------------------- ------------------- 4/8 [fonttools]\n",
      "   -------------------- ------------------- 4/8 [fonttools]\n",
      "   -------------------- ------------------- 4/8 [fonttools]\n",
      "   -------------------- ------------------- 4/8 [fonttools]\n",
      "   -------------------- ------------------- 4/8 [fonttools]\n",
      "   -------------------- ------------------- 4/8 [fonttools]\n",
      "   -------------------- ------------------- 4/8 [fonttools]\n",
      "   -------------------- ------------------- 4/8 [fonttools]\n",
      "   -------------------- ------------------- 4/8 [fonttools]\n",
      "   -------------------- ------------------- 4/8 [fonttools]\n",
      "   -------------------- ------------------- 4/8 [fonttools]\n",
      "   -------------------- ------------------- 4/8 [fonttools]\n",
      "   -------------------- ------------------- 4/8 [fonttools]\n",
      "   -------------------- ------------------- 4/8 [fonttools]\n",
      "   -------------------- ------------------- 4/8 [fonttools]\n",
      "   -------------------- ------------------- 4/8 [fonttools]\n",
      "   -------------------- ------------------- 4/8 [fonttools]\n",
      "   -------------------- ------------------- 4/8 [fonttools]\n",
      "   ------------------------- -------------- 5/8 [cycler]\n",
      "   ------------------------------ --------- 6/8 [contourpy]\n",
      "   ----------------------------------- ---- 7/8 [matplotlib]\n",
      "   ----------------------------------- ---- 7/8 [matplotlib]\n",
      "   ----------------------------------- ---- 7/8 [matplotlib]\n",
      "   ----------------------------------- ---- 7/8 [matplotlib]\n",
      "   ----------------------------------- ---- 7/8 [matplotlib]\n",
      "   ----------------------------------- ---- 7/8 [matplotlib]\n",
      "   ----------------------------------- ---- 7/8 [matplotlib]\n",
      "   ----------------------------------- ---- 7/8 [matplotlib]\n",
      "   ----------------------------------- ---- 7/8 [matplotlib]\n",
      "   ----------------------------------- ---- 7/8 [matplotlib]\n",
      "   ----------------------------------- ---- 7/8 [matplotlib]\n",
      "   ----------------------------------- ---- 7/8 [matplotlib]\n",
      "   ----------------------------------- ---- 7/8 [matplotlib]\n",
      "   ----------------------------------- ---- 7/8 [matplotlib]\n",
      "   ----------------------------------- ---- 7/8 [matplotlib]\n",
      "   ----------------------------------- ---- 7/8 [matplotlib]\n",
      "   ----------------------------------- ---- 7/8 [matplotlib]\n",
      "   ----------------------------------- ---- 7/8 [matplotlib]\n",
      "   ----------------------------------- ---- 7/8 [matplotlib]\n",
      "   ----------------------------------- ---- 7/8 [matplotlib]\n",
      "   ----------------------------------- ---- 7/8 [matplotlib]\n",
      "   ----------------------------------- ---- 7/8 [matplotlib]\n",
      "   ----------------------------------- ---- 7/8 [matplotlib]\n",
      "   ----------------------------------- ---- 7/8 [matplotlib]\n",
      "   ----------------------------------- ---- 7/8 [matplotlib]\n",
      "   ----------------------------------- ---- 7/8 [matplotlib]\n",
      "   ----------------------------------- ---- 7/8 [matplotlib]\n",
      "   ----------------------------------- ---- 7/8 [matplotlib]\n",
      "   ----------------------------------- ---- 7/8 [matplotlib]\n",
      "   ----------------------------------- ---- 7/8 [matplotlib]\n",
      "   ----------------------------------- ---- 7/8 [matplotlib]\n",
      "   ----------------------------------- ---- 7/8 [matplotlib]\n",
      "   ----------------------------------- ---- 7/8 [matplotlib]\n",
      "   ----------------------------------- ---- 7/8 [matplotlib]\n",
      "   ---------------------------------------- 8/8 [matplotlib]\n",
      "\n",
      "Successfully installed contourpy-1.3.2 cycler-0.12.1 fonttools-4.58.2 kiwisolver-1.4.8 matplotlib-3.10.3 numpy-2.3.0 pillow-11.2.1 pyparsing-3.2.3\n"
     ]
    }
   ],
   "source": [
    "!pip install matplotlib numpy"
   ]
  },
  {
   "cell_type": "code",
   "execution_count": 19,
   "metadata": {
    "colab": {
     "background_save": true
    },
    "execution": {
     "iopub.execute_input": "2025-06-08T17:24:31.015387Z",
     "iopub.status.busy": "2025-06-08T17:24:31.014988Z",
     "iopub.status.idle": "2025-06-08T17:24:35.291589Z",
     "shell.execute_reply": "2025-06-08T17:24:35.291040Z",
     "shell.execute_reply.started": "2025-06-08T17:24:31.015359Z"
    },
    "id": "XvWyCrjQiF6v"
   },
   "outputs": [],
   "source": [
    "import matplotlib.pyplot as plt\n",
    "import numpy as np"
   ]
  },
  {
   "cell_type": "code",
   "execution_count": 20,
   "metadata": {
    "colab": {
     "background_save": true
    },
    "execution": {
     "iopub.execute_input": "2025-06-08T17:24:46.545473Z",
     "iopub.status.busy": "2025-06-08T17:24:46.545116Z",
     "iopub.status.idle": "2025-06-08T17:24:47.002698Z",
     "shell.execute_reply": "2025-06-08T17:24:47.002060Z",
     "shell.execute_reply.started": "2025-06-08T17:24:46.545451Z"
    },
    "id": "1MQpGGDOiF6v"
   },
   "outputs": [
    {
     "data": {
      "image/png": "[encoded data removed]",
      "text/plain": [
       "<Figure size 640x480 with 1 Axes>"
      ]
     },
     "metadata": {},
     "output_type": "display_data"
    }
   ],
   "source": [
    "plt.plot(np.sin(range(20)));"
   ]
  },
  {
   "cell_type": "markdown",
   "metadata": {
    "id": "Rwn_z8I-iF6v"
   },
   "source": [
    "## Розділ 3"
   ]
  },
  {
   "cell_type": "code",
   "execution_count": 14,
   "metadata": {
    "colab": {
     "background_save": true
    },
    "execution": {
     "iopub.execute_input": "2025-06-08T17:17:21.278330Z",
     "iopub.status.busy": "2025-06-08T17:17:21.277821Z",
     "iopub.status.idle": "2025-06-08T17:17:21.283155Z",
     "shell.execute_reply": "2025-06-08T17:17:21.282220Z",
     "shell.execute_reply.started": "2025-06-08T17:17:21.278303Z"
    },
    "id": "LdWkw7hXiF6v"
   },
   "outputs": [
    {
     "data": {
      "text/plain": [
       "3"
      ]
     },
     "execution_count": 14,
     "metadata": {},
     "output_type": "execute_result"
    }
   ],
   "source": [
    "a = 1\n",
    "b = 2\n",
    "a + b"
   ]
  },
  {
   "cell_type": "code",
   "execution_count": 15,
   "metadata": {
    "colab": {
     "background_save": true
    },
    "execution": {
     "iopub.execute_input": "2025-06-08T17:17:22.842911Z",
     "iopub.status.busy": "2025-06-08T17:17:22.842642Z",
     "iopub.status.idle": "2025-06-08T17:17:22.847349Z",
     "shell.execute_reply": "2025-06-08T17:17:22.846515Z",
     "shell.execute_reply.started": "2025-06-08T17:17:22.842890Z"
    },
    "id": "7wt1mxE6iF6v"
   },
   "outputs": [
    {
     "data": {
      "text/plain": [
       "0.5"
      ]
     },
     "execution_count": 15,
     "metadata": {},
     "output_type": "execute_result"
    }
   ],
   "source": [
    "a/b"
   ]
  },
  {
   "cell_type": "code",
   "execution_count": null,
   "metadata": {
    "colab": {
     "background_save": true
    },
    "id": "tSJiEaU6iF6w"
   },
   "outputs": [],
   "source": []
  },
  {
   "cell_type": "code",
   "execution_count": null,
   "metadata": {},
   "outputs": [],
   "source": []
  }
 ],
 "metadata": {
  "colab": {
   "provenance": []
  },
  "kernelspec": {
   "display_name": "Python 3 (ipykernel)",
   "language": "python",
   "name": "python3"
  },
  "language_info": {
   "codemirror_mode": {
    "name": "ipython",
    "version": 3
   },
   "file_extension": ".py",
   "mimetype": "text/x-python",
   "name": "python",
   "nbconvert_exporter": "python",
   "pygments_lexer": "ipython3",
   "version": "3.13.4"
  },
  "toc": {
   "base_numbering": 1,
   "nav_menu": {},
   "number_sections": true,
   "sideBar": true,
   "skip_h1_title": false,
   "title_cell": "Table of Contents",
   "title_sidebar": "Contents",
   "toc_cell": false,
   "toc_position": {},
   "toc_section_display": true,
   "toc_window_display": true
  }
 },
 "nbformat": 4,
 "nbformat_minor": 4
}
